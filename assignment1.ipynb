{
 "cells": [
  {
   "cell_type": "markdown",
   "id": "cf16eabe-0673-47fd-b6a3-3c1c83d36497",
   "metadata": {},
   "source": [
    "**1. \n",
    "Write a program which will find all such numbers which are divisible by 7 but are not a\n",
    "multiple of 5, between 2000 and 3200 (both included)\n",
    "The numbers obtained should be printed\n",
    "in a comma-separated sequence on a single line** "
   ]
  },
  {
   "cell_type": "code",
   "execution_count": 8,
   "id": "a19c5cce-442e-4eac-bb3a-a5f46b99b722",
   "metadata": {},
   "outputs": [
    {
     "name": "stdout",
     "output_type": "stream",
     "text": [
      "The no of squence divisible by 7 and not divisible by 5 are: [2002, 2009, 2016, 2023, 2037, 2044, 2051, 2058, 2072, 2079, 2086, 2093, 2107, 2114, 2121, 2128, 2142, 2149, 2156, 2163, 2177, 2184, 2191, 2198, 2212, 2219, 2226, 2233, 2247, 2254, 2261, 2268, 2282, 2289, 2296, 2303, 2317, 2324, 2331, 2338, 2352, 2359, 2366, 2373, 2387, 2394, 2401, 2408, 2422, 2429, 2436, 2443, 2457, 2464, 2471, 2478, 2492, 2499, 2506, 2513, 2527, 2534, 2541, 2548, 2562, 2569, 2576, 2583, 2597, 2604, 2611, 2618, 2632, 2639, 2646, 2653, 2667, 2674, 2681, 2688, 2702, 2709, 2716, 2723, 2737, 2744, 2751, 2758, 2772, 2779, 2786, 2793, 2807, 2814, 2821, 2828, 2842, 2849, 2856, 2863, 2877, 2884, 2891, 2898, 2912, 2919, 2926, 2933, 2947, 2954, 2961, 2968, 2982, 2989, 2996, 3003, 3017, 3024, 3031, 3038, 3052, 3059, 3066, 3073, 3087, 3094, 3101, 3108, 3122, 3129, 3136, 3143, 3157, 3164, 3171, 3178, 3192, 3199]\n"
     ]
    }
   ],
   "source": [
    "divisible_by_7=[]\n",
    "for i in range(2000,3200):\n",
    "    if i%7==0 and i%5!=0:\n",
    "        divisible_by_7.append(i)\n",
    "        \n",
    "    else:\n",
    "        pass\n",
    "print('The no of squence divisible by 7 and not divisible by 5 are: {}'.format(oi for i in divisible_by_7))"
   ]
  },
  {
   "cell_type": "markdown",
   "id": "bff3e445-66b8-4a85-97f5-87fabfd9d456",
   "metadata": {},
   "source": [
    "**2. Write a Python program to accept the user's first and last name and then getting them printed in the the reverse order with a space between first name and last name**"
   ]
  },
  {
   "cell_type": "code",
   "execution_count": 22,
   "id": "fa0922fb-dc97-4423-b5d7-518cf714b48f",
   "metadata": {},
   "outputs": [
    {
     "name": "stdin",
     "output_type": "stream",
     "text": [
      "Enter the First Name nikhil\n",
      "Enter the Last Name shinde\n"
     ]
    },
    {
     "name": "stdout",
     "output_type": "stream",
     "text": [
      "The reverese of First and last name :lihkin ednihs\n"
     ]
    }
   ],
   "source": [
    "first_name=input(\"Enter the First Name\")\n",
    "last_name=input(\"Enter the Last Name\")\n",
    "print(\"The reverese of First and last name :{} {}\".format(first_name[::-1],last_name[::-1]))"
   ]
  },
  {
   "cell_type": "markdown",
   "id": "2c83a3c0-920c-4de6-b361-611373c5c183",
   "metadata": {},
   "source": [
    "**3.Write a Python program to find the volume of a sphere with diameter 12 cm**"
   ]
  },
  {
   "cell_type": "code",
   "execution_count": 28,
   "id": "3db19455-2b03-497c-a76a-14400ea0df5d",
   "metadata": {},
   "outputs": [
    {
     "name": "stdin",
     "output_type": "stream",
     "text": [
      "Enter the Diameter of the data 12\n"
     ]
    },
    {
     "name": "stdout",
     "output_type": "stream",
     "text": [
      "The volume of the sphere is : 904.32\n"
     ]
    }
   ],
   "source": [
    "diameter=int(input(\"Enter the Diameter of the data\"))\n",
    "radius=diameter/2\n",
    "volume=(4/3*3.14*radius**3)\n",
    "print(\"The volume of the sphere is : {}\".format(round(volume,2)))"
   ]
  },
  {
   "cell_type": "code",
   "execution_count": null,
   "id": "8b436f30-00cb-4b09-bd66-28bf4ec3a3c8",
   "metadata": {},
   "outputs": [],
   "source": []
  }
 ],
 "metadata": {
  "kernelspec": {
   "display_name": "Python 3",
   "language": "python",
   "name": "python3"
  },
  "language_info": {
   "codemirror_mode": {
    "name": "ipython",
    "version": 3
   },
   "file_extension": ".py",
   "mimetype": "text/x-python",
   "name": "python",
   "nbconvert_exporter": "python",
   "pygments_lexer": "ipython3",
   "version": "3.8.8"
  }
 },
 "nbformat": 4,
 "nbformat_minor": 5
}
